{
 "cells": [
  {
   "cell_type": "code",
   "execution_count": 73,
   "metadata": {
    "scrolled": false
   },
   "outputs": [
    {
     "data": {
      "application/vnd.jupyter.widget-view+json": {
       "model_id": "7e3fae340d18481c8fcd71637e97c0d5",
       "version_major": 2,
       "version_minor": 0
      },
      "text/plain": [
       "interactive(children=(FloatSlider(value=10.0, description='sig', layout=Layout(width='700px'), max=50.0, min=0…"
      ]
     },
     "metadata": {},
     "output_type": "display_data"
    },
    {
     "data": {
      "text/plain": [
       "<function __main__.f_main(sig, rho, beta, plot)>"
      ]
     },
     "metadata": {},
     "output_type": "display_data"
    }
   ],
   "source": [
    "\n",
    "from ipywidgets import*\n",
    "import numpy as np\n",
    "import ipyvolume as ipv\n",
    "from IPython.display import display\n",
    "\n",
    "\n",
    "\n",
    "def lorenz(x, y, z, s,r,b):\n",
    "    '''\n",
    "    Given:\n",
    "       x, y, z: a point of interest in three dimensional space\n",
    "       s, r, b: parameters defining the lorenz attractor\n",
    "    Returns:\n",
    "       x_dot, y_dot, z_dot: values of the lorenz attractor's partial\n",
    "           derivatives at the point x, y, z\n",
    "    '''\n",
    "    x_dot = s*(y - x)\n",
    "    y_dot = r*x - y - x*z\n",
    "    z_dot = x*y - b*z\n",
    "    return x_dot, y_dot, z_dot\n",
    "\n",
    "\n",
    "dt = 0.01\n",
    "num_steps = 10000\n",
    "\n",
    "fig = ipv.figure()\n",
    "\n",
    "def f_main(sig,rho,beta,plot):\n",
    "    global KJ, scatter,fig\n",
    "    ipv.clear()\n",
    "    \n",
    "    if(plot==True):\n",
    "        xs = np.array([0.])\n",
    "        ys = np.array([1.0])\n",
    "        zs = np.array([1.07])\n",
    "        \n",
    "        \n",
    "        ipv.show()\n",
    "        \n",
    "        \n",
    "        \n",
    "        \n",
    "\n",
    "\n",
    "\n",
    "        for i in range(num_steps):\n",
    "\n",
    "       \n",
    "            \n",
    "        \n",
    "            \n",
    "      \n",
    "            x_dot, y_dot, z_dot = lorenz(xs[i], ys[i], zs[i],sig,rho,beta)\n",
    "            xs = np.append(xs,xs[i] + (x_dot * dt))\n",
    "            ys = np.append(ys,ys[i] + (y_dot * dt))\n",
    "            zs = np.append(zs, zs[i] + (z_dot * dt))\n",
    "\n",
    "\n",
    "            \n",
    "\n",
    "                \n",
    "                \n",
    "        \n",
    "            \n",
    "            \n",
    "                \n",
    "        ipv.plot(xs,ys,zs,color='black')\n",
    "        \n",
    "       \n",
    "\n",
    "        \n",
    "                \n",
    "        \n",
    "\n",
    "\n",
    "w = interact(f_main, sig = FloatSlider(value = 10,min = 0.1,max = 50.0,layout ={'width':'700px'}),\n",
    "                    rho = FloatSlider(value = 28,min = 0.1,max = 50.0,layout ={'width':'700px'}),\n",
    "                    beta = FloatSlider(value = 2.667,min = 0.1,max = 50.0,layout ={'width':'700px'}),\n",
    "                    plot=True\n",
    "                    \n",
    "           )\n",
    "display(w)\n"
   ]
  },
  {
   "cell_type": "code",
   "execution_count": null,
   "metadata": {},
   "outputs": [],
   "source": []
  }
 ],
 "metadata": {
  "kernelspec": {
   "display_name": "Python 3",
   "language": "python",
   "name": "python3"
  },
  "language_info": {
   "codemirror_mode": {
    "name": "ipython",
    "version": 3
   },
   "file_extension": ".py",
   "mimetype": "text/x-python",
   "name": "python",
   "nbconvert_exporter": "python",
   "pygments_lexer": "ipython3",
   "version": "3.8.3"
  },
  "latex_envs": {
   "LaTeX_envs_menu_present": true,
   "autoclose": false,
   "autocomplete": false,
   "bibliofile": "biblio.bib",
   "cite_by": "apalike",
   "current_citInitial": 1,
   "eqLabelWithNumbers": true,
   "eqNumInitial": 1,
   "hotkeys": {
    "equation": "Ctrl-E",
    "itemize": "Ctrl-I"
   },
   "labels_anchors": false,
   "latex_user_defs": false,
   "report_style_numbering": false,
   "user_envs_cfg": false
  }
 },
 "nbformat": 4,
 "nbformat_minor": 4
}
