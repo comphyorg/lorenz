{
 "cells": [
  {
   "cell_type": "code",
   "execution_count": 20,
   "metadata": {},
   "outputs": [
    {
     "data": {
      "application/vnd.jupyter.widget-view+json": {
       "model_id": "bf41a6db1de94d9a8503c0f457f4c6c6",
       "version_major": 2,
       "version_minor": 0
      },
      "text/plain": [
       "VBox(children=(Text(value='Uncheck plot button  then change the sliders', disabled=True, layout=Layout(width='…"
      ]
     },
     "metadata": {},
     "output_type": "display_data"
    }
   ],
   "source": [
    "\n",
    "from ipywidgets import*\n",
    "import numpy as np\n",
    "import ipyvolume as ipv\n",
    "from IPython.display import display\n",
    "\n",
    "\n",
    "\n",
    "def lorenz(x, y, z, s,r,b):\n",
    "    '''\n",
    "    Given:\n",
    "       x, y, z: a point of interest in three dimensional space\n",
    "       s, r, b: parameters defining the lorenz attractor\n",
    "    Returns:\n",
    "       x_dot, y_dot, z_dot: values of the lorenz attractor's partial\n",
    "           derivatives at the point x, y, z\n",
    "    '''\n",
    "    x_dot = s*(y - x)\n",
    "    y_dot = r*x - y - x*z\n",
    "    z_dot = x*y - b*z\n",
    "    return x_dot, y_dot, z_dot\n",
    "\n",
    "\n",
    "dt = 0.01\n",
    "num_steps = 10000\n",
    "\n",
    "\n",
    "\n",
    "def f_main(sig,rho,beta,plot):\n",
    "    global KJ, scatter\n",
    "    \n",
    "    if(plot==True):\n",
    "        xs = np.array([0.])\n",
    "        ys = np.array([1.0])\n",
    "        zs = np.array([1.07])\n",
    "        fig = ipv.figure()\n",
    "        \n",
    "\n",
    "        ipv.show()\n",
    "        \n",
    "\n",
    "\n",
    "        for i in range(num_steps):\n",
    "       \n",
    "            \n",
    "        \n",
    "            \n",
    "      \n",
    "            x_dot, y_dot, z_dot = lorenz(xs[i], ys[i], zs[i],sig,rho,beta)\n",
    "            xs = np.append(xs,xs[i] + (x_dot * dt))\n",
    "            ys = np.append(ys,ys[i] + (y_dot * dt))\n",
    "            zs = np.append(zs, zs[i] + (z_dot * dt))\n",
    "\n",
    "\n",
    "            \n",
    "\n",
    "                \n",
    "                \n",
    "        ipv.plot(xs,ys,zs,color='red')\n",
    "        \n",
    "                \n",
    "        \n",
    "\n",
    "\n",
    "w = interactive(f_main, sig = FloatSlider(value = 10,min = 0.1,max = 50.0,layout ={'width':'700px'}),\n",
    "                    rho = FloatSlider(value = 28,min = 0.1,max = 50.0,layout ={'width':'700px'}),\n",
    "                    beta = FloatSlider(value = 2.667,min = 0.1,max = 50.0,layout ={'width':'700px'}),\n",
    "                    plot=True\n",
    "                    \n",
    "           )\n",
    "\n",
    "k = VBox((Text(value=\"Uncheck plot button  then change the sliders\",disabled=True,layout ={'width':'400px'}\n",
    "          ),w))\n",
    "\n",
    "\n",
    "display(k)"
   ]
  }
 ],
 "metadata": {
  "kernelspec": {
   "display_name": "Python 3",
   "language": "python",
   "name": "python3"
  },
  "language_info": {
   "codemirror_mode": {
    "name": "ipython",
    "version": 3
   },
   "file_extension": ".py",
   "mimetype": "text/x-python",
   "name": "python",
   "nbconvert_exporter": "python",
   "pygments_lexer": "ipython3",
   "version": "3.8.3"
  },
  "latex_envs": {
   "LaTeX_envs_menu_present": true,
   "autoclose": false,
   "autocomplete": false,
   "bibliofile": "biblio.bib",
   "cite_by": "apalike",
   "current_citInitial": 1,
   "eqLabelWithNumbers": true,
   "eqNumInitial": 1,
   "hotkeys": {
    "equation": "Ctrl-E",
    "itemize": "Ctrl-I"
   },
   "labels_anchors": false,
   "latex_user_defs": false,
   "report_style_numbering": false,
   "user_envs_cfg": false
  }
 },
 "nbformat": 4,
 "nbformat_minor": 4
}
